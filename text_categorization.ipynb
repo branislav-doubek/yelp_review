{
 "cells": [
  {
   "cell_type": "markdown",
   "metadata": {},
   "source": [
    "## Imports\n",
    "\n",
    "\n",
    "in this notebook we use misvm library for multiple instance learning classification problem (based on work: https://www.aimsciences.org/article/doi/10.3934/bdia.2017009), but user has to download glove(found in: https://nlp.stanford.edu/projects/glove/),wordnet(found in: https://drive.google.com/file/d/0B7XkCwpI5KDYNlNUTTlSS21pQmM/edit)  and extract them inside the folder in which we run this notebook. Results are not good, if you want to run the code, you can download library below. Otherwise only keras approach will be run."
   ]
  },
  {
   "cell_type": "code",
   "execution_count": null,
   "metadata": {},
   "outputs": [],
   "source": [
    "'''\n",
    "!git clone https://github.com/garydoranjr/misvm\n",
    "%cd misvm\n",
    "!python setup.py install\n",
    "%cd ..\n",
    "import misvm\n",
    "'''"
   ]
  },
  {
   "cell_type": "code",
   "execution_count": 1,
   "metadata": {},
   "outputs": [
    {
     "name": "stderr",
     "output_type": "stream",
     "text": [
      "Using TensorFlow backend.\n"
     ]
    }
   ],
   "source": [
    "import numpy as np\n",
    "import pandas as pd\n",
    "from nltk.corpus import stopwords, wordnet\n",
    "from nltk.stem import WordNetLemmatizer\n",
    "import string\n",
    "from textblob import Word, TextBlob\n",
    "import matplotlib\n",
    "from gensim.models import KeyedVectors\n",
    "from sklearn.metrics import accuracy_score, confusion_matrix\n",
    "from sklearn.metrics import confusion_matrix\n",
    "from sklearn.svm import SVC\n",
    "from sklearn.model_selection import GridSearchCV\n",
    "import pickle\n",
    "import re\n",
    "import warnings\n",
    "import seaborn as sns\n",
    "import matplotlib.pyplot as plt\n",
    "from langdetect import detect\n",
    "from keras.models import Sequential\n",
    "from keras.layers import Dense, Activation\n",
    "warnings.filterwarnings(\"ignore\")\n"
   ]
  },
  {
   "cell_type": "markdown",
   "metadata": {},
   "source": [
    "## Helper functions:"
   ]
  },
  {
   "cell_type": "code",
   "execution_count": 2,
   "metadata": {},
   "outputs": [],
   "source": [
    "def get_word(model, word):\n",
    "    try:\n",
    "        return model.get_vector(word)\n",
    "    except:\n",
    "        return np.zeros(300)\n",
    "\n",
    "def batch_set(x, y, current_iter = 1, total_iter=5):\n",
    "    x_val, x_train = split(x, current_iter, total_iter)\n",
    "    y_val, y_train = split(y, current_iter, total_iter)\n",
    "    return x_train, x_val, y_train, y_val\n",
    "\n",
    "def train_test_split(features, bag_labels):\n",
    "    split = 0.8\n",
    "    num_bags = len(features)\n",
    "    index = int(split * num_bags)\n",
    "    return features[:index], features[index:], bag_labels[:index], bag_labels[index:]\n",
    "\n",
    "def split(lst,cur_iter,total_iter):\n",
    "    splitted_lst = np.array_split(lst, total_iter)\n",
    "    validation_lst = splitted_lst.pop(cur_iter-1)\n",
    "    flat_lst = [item for sublist in splitted_lst for item in sublist]\n",
    "    return validation_lst, flat_lst"
   ]
  },
  {
   "cell_type": "code",
   "execution_count": 3,
   "metadata": {},
   "outputs": [
    {
     "name": "stdout",
     "output_type": "stream",
     "text": [
      "CPU times: user 35.8 s, sys: 3.67 s, total: 39.5 s\n",
      "Wall time: 41.5 s\n"
     ]
    }
   ],
   "source": [
    "%%time\n",
    "ds_review = pd.read_csv('yelp_review.csv')"
   ]
  },
  {
   "cell_type": "markdown",
   "metadata": {},
   "source": [
    "The objective is to create model, which is able to predict category of review."
   ]
  },
  {
   "cell_type": "code",
   "execution_count": 4,
   "metadata": {},
   "outputs": [
    {
     "data": {
      "image/png": "[encoded data removed]",
      "text/plain": [
       "<Figure size 432x288 with 1 Axes>"
      ]
     },
     "metadata": {
      "needs_background": "light"
     },
     "output_type": "display_data"
    }
   ],
   "source": [
    "ds_business = pd.read_csv('yelp_business.csv')\n",
    "business_categories=' '.join(ds_business['categories'])\n",
    "indi = pd.DataFrame(business_categories.split(';'), columns=['categories'])\n",
    "x = indi.categories.value_counts()\n",
    "ds_categories=pd.DataFrame(x.sort_values(ascending=False))\n",
    "sns.barplot(ds_categories.index, ds_categories.values.ravel(), order=ds_categories.categories.iloc[:5].index)\n",
    "g = plt.xticks(rotation=45)"
   ]
  },
  {
   "cell_type": "markdown",
   "metadata": {},
   "source": [
    "From the business dataset we can see, that the most reviewed categories on yelp are restaurants and shopping. We use these 2 groups to create binary dataset on which we we use multiple instance learning approach to categorize unseen reviews."
   ]
  },
  {
   "cell_type": "code",
   "execution_count": 5,
   "metadata": {},
   "outputs": [],
   "source": [
    "ds_restaurants = ds_business[(ds_business['categories'].str.contains('Restaurants')) & ~(ds_business['categories'].str.contains('Shopping'))]\n",
    "ds_shopping = ds_business[(ds_business['categories'].str.contains('Shopping')) & ~(ds_business['categories'].str.contains('Restaurants')) & ~(ds_business['categories'].str.contains('Food')) & ~(ds_business['categories'].str.contains('Bars'))]"
   ]
  },
  {
   "cell_type": "markdown",
   "metadata": {},
   "source": [
    "Now we pair business ids from business dataset and locate categorical reviews from reviews dataset"
   ]
  },
  {
   "cell_type": "code",
   "execution_count": 6,
   "metadata": {},
   "outputs": [],
   "source": [
    "shopping_id = ds_shopping.business_id.values\n",
    "shopping_reviews = ds_review.loc[ds_review['business_id'].isin(shopping_id)] # positive\n",
    "shopping_reviews['label'] = 1\n",
    "\n",
    "restaurant_id =ds_restaurants.business_id.values\n",
    "restaurant_reviews = ds_review.loc[ds_review['business_id'].isin(restaurant_id)] # negative\n",
    "restaurant_reviews['label'] = -1"
   ]
  },
  {
   "cell_type": "code",
   "execution_count": 7,
   "metadata": {},
   "outputs": [],
   "source": [
    "del ds_restaurants\n",
    "del ds_shopping"
   ]
  },
  {
   "cell_type": "code",
   "execution_count": 8,
   "metadata": {},
   "outputs": [],
   "source": [
    "shopping_reviews['lang'] = shopping_reviews['text'].head(250).apply(lambda x: detect(x))\n",
    "restaurant_reviews['lang'] = restaurant_reviews['text'].head(250).apply(lambda x: detect(x))"
   ]
  },
  {
   "cell_type": "code",
   "execution_count": 9,
   "metadata": {},
   "outputs": [],
   "source": [
    "shopping_reviews = shopping_reviews[shopping_reviews['lang'] =='en']\n",
    "restaurant_reviews = restaurant_reviews[restaurant_reviews['lang'] =='en']"
   ]
  },
  {
   "cell_type": "markdown",
   "metadata": {},
   "source": [
    "Due to cardinality imbalance of reviews between 2 groups we use 2000 reviews from both categories "
   ]
  },
  {
   "cell_type": "code",
   "execution_count": 10,
   "metadata": {},
   "outputs": [],
   "source": [
    "pos_ds = shopping_reviews.head(200)\n",
    "neg_ds = restaurant_reviews.head(200)\n",
    "ds = pos_ds.append(neg_ds)\n",
    "np.random.seed(42)\n",
    "ds = ds.reindex(np.random.permutation(ds.index)) #shuffle\n",
    "del pos_ds\n",
    "del neg_ds\n",
    "del ds_review\n",
    "del ds_business\n",
    "del shopping_reviews\n",
    "del restaurant_reviews"
   ]
  },
  {
   "cell_type": "markdown",
   "metadata": {},
   "source": [
    "## Preprocessing\n",
    "We use pretrained google implementation of word2vec, which transforms words into vectors based on semantic meaning to other words.  \n",
    "Example:  \n",
    "word2vect('king') - word2vect('man') + word2vect('woman') = word2vect('queen')"
   ]
  },
  {
   "cell_type": "code",
   "execution_count": 11,
   "metadata": {},
   "outputs": [
    {
     "name": "stdout",
     "output_type": "stream",
     "text": [
      "CPU times: user 1min 18s, sys: 6.09 s, total: 1min 24s\n",
      "Wall time: 1min 24s\n"
     ]
    }
   ],
   "source": [
    "%%time\n",
    "model = KeyedVectors.load_word2vec_format('GoogleNews-vectors-negative300.bin', binary=True)"
   ]
  },
  {
   "cell_type": "code",
   "execution_count": 12,
   "metadata": {},
   "outputs": [],
   "source": [
    "text = ds.text.values\n",
    "labels = ds.label.values\n",
    "del ds"
   ]
  },
  {
   "cell_type": "markdown",
   "metadata": {},
   "source": [
    "We now create multiple instance learning dataset, in which structure is following:  \n",
    "mil_X = list(bag1, bag_2, ..., bag_n)  \n",
    "Y = (1, 2, ..., n)  \n",
    "Each bag denotes 1 review  \n",
    "bag_i = list(instance_1, instance_2, ..., instance_m)  \n",
    "Each instance denotes sentence in review as a mean of word2vect vectors, which appeared in sentence  "
   ]
  },
  {
   "cell_type": "code",
   "execution_count": 13,
   "metadata": {},
   "outputs": [],
   "source": [
    "mil_X=[]\n",
    "Y=[]\n",
    "sup_X=[]\n",
    "stop_words = set(stopwords.words(\"english\")) # vocabulary which we use to limit individual in dataset\n",
    "for review, label in zip(text, labels):\n",
    "        bag = []\n",
    "        sentence_list = review.split('.')\n",
    "        for sentence in sentence_list:\n",
    "            cl_sent = re.sub(r'([^\\s\\w]|_)+', '', sentence)\n",
    "            clean_sentence = ''.join([i for i in cl_sent if not i.isdigit()]) # remove all numbers\n",
    "            clean_sentence = clean_sentence.replace('\\n', '')\n",
    "            tokenized = clean_sentence.split(' ')\n",
    "            sentence_vect = np.zeros(300)\n",
    "            counter = 0\n",
    "            for word in tokenized:\n",
    "                l_word = word.lower()\n",
    "                if l_word in stop_words: # if stop word we don't try to vectorize\n",
    "                    break\n",
    "                elif l_word:\n",
    "                    try:\n",
    "                        word_vect = model[l_word] # vector representation of wird \n",
    "                        sentence_vect = np.add(sentence_vect, word_vect)\n",
    "                    except:\n",
    "                        pass\n",
    "            if np.isnan(np.sum(x)):\n",
    "                sentence_vect = np.zeros(300)\n",
    "                print(sentence)\n",
    "            bag.append(sentence_vect)\n",
    "        mil_X.append(bag)\n",
    "        sup_X.append(sum(bag)/len(bag))\n",
    "        Y.append(label)"
   ]
  },
  {
   "cell_type": "code",
   "execution_count": 14,
   "metadata": {},
   "outputs": [],
   "source": [
    "del model\n",
    "del stop_words\n",
    "del text\n",
    "del labels"
   ]
  },
  {
   "cell_type": "markdown",
   "metadata": {},
   "source": [
    "Following code runs cross validation on multiple instance learning classifier for hyperparameter selection for almost 10 minutes and the resulting acc = 0.6375 "
   ]
  },
  {
   "cell_type": "code",
   "execution_count": 15,
   "metadata": {},
   "outputs": [
    {
     "data": {
      "text/plain": [
       "\"\\n%%time\\ntrain_X, test_X, train_Y, test_Y = train_test_split(mil_X, Y) # multiple instance learning dataset\\nbest_params={'kernel':None, 'c': None}\\nbest_acc = 0\\nk_valid =5\\nfor kernel in ['linear', 'quadratic']:\\n    for c in [100, 1000, 10000]:\\n        acc_lst = []\\n        for cur_iteration in range(k_valid):\\n            x_train, x_val, y_train, y_val = batch_set(train_X,train_Y, cur_iteration, k_valid)\\n            classifier = misvm.MISVM(kernel=kernel, C=c, max_iters=30, verbose=False)\\n            classifier.fit(x_train, y_train)\\n            labels = classifier.predict(x_val)\\n            pred_y = np.sign(labels)\\n            accuracy = accuracy_score(y_val, pred_y)\\n            #print(confusion_matrix(y_val, pred_y))\\n            #print(accuracy)\\n            acc_lst.append(accuracy)\\n        mean = sum(acc_lst)/len(acc_lst)\\n        if mean > best_acc:\\n            best_acc = accuracy\\n            best_params['kernel'] = kernel\\n            best_params['c'] = c\\n        print('Results of {} kernel and C set to {}'.format(kernel, c))\\n        print('Mean = {}, std={}'.format(mean, np.std(np.array(acc_lst))))    \\nprint('Selected parameters: {}'.format(best_params))\\nclassifier = misvm.MISVM(kernel=best_params['kernel'], C=best_params['c'], max_iters=30, verbose=False)\\nclassifier.fit(train_X, train_Y)\\nlabels = classifier.predict(test_X)\\npred_y = np.sign(labels)\\naccuracy = accuracy_score(test_Y, pred_y)\\nprint(accuracy)\\n\""
      ]
     },
     "execution_count": 15,
     "metadata": {},
     "output_type": "execute_result"
    }
   ],
   "source": [
    "'''\n",
    "%%time\n",
    "train_X, test_X, train_Y, test_Y = train_test_split(mil_X, Y) # multiple instance learning dataset\n",
    "best_params={'kernel':None, 'c': None}\n",
    "best_acc = 0\n",
    "k_valid =5\n",
    "for kernel in ['linear', 'quadratic']:\n",
    "    for c in [100, 1000, 10000]:\n",
    "        acc_lst = []\n",
    "        for cur_iteration in range(k_valid):\n",
    "            x_train, x_val, y_train, y_val = batch_set(train_X,train_Y, cur_iteration, k_valid)\n",
    "            classifier = misvm.MISVM(kernel=kernel, C=c, max_iters=30, verbose=False)\n",
    "            classifier.fit(x_train, y_train)\n",
    "            labels = classifier.predict(x_val)\n",
    "            pred_y = np.sign(labels)\n",
    "            accuracy = accuracy_score(y_val, pred_y)\n",
    "            #print(confusion_matrix(y_val, pred_y))\n",
    "            #print(accuracy)\n",
    "            acc_lst.append(accuracy)\n",
    "        mean = sum(acc_lst)/len(acc_lst)\n",
    "        if mean > best_acc:\n",
    "            best_acc = accuracy\n",
    "            best_params['kernel'] = kernel\n",
    "            best_params['c'] = c\n",
    "        print('Results of {} kernel and C set to {}'.format(kernel, c))\n",
    "        print('Mean = {}, std={}'.format(mean, np.std(np.array(acc_lst))))    \n",
    "print('Selected parameters: {}'.format(best_params))\n",
    "classifier = misvm.MISVM(kernel=best_params['kernel'], C=best_params['c'], max_iters=30, verbose=False)\n",
    "classifier.fit(train_X, train_Y)\n",
    "labels = classifier.predict(test_X)\n",
    "pred_y = np.sign(labels)\n",
    "accuracy = accuracy_score(test_Y, pred_y)\n",
    "print(accuracy)\n",
    "'''"
   ]
  },
  {
   "cell_type": "code",
   "execution_count": 16,
   "metadata": {},
   "outputs": [],
   "source": [
    "train_X, test_X, train_Y, test_Y = train_test_split(sup_X, Y) # supervised learning dataset"
   ]
  },
  {
   "cell_type": "code",
   "execution_count": 17,
   "metadata": {},
   "outputs": [
    {
     "name": "stdout",
     "output_type": "stream",
     "text": [
      "Best parameters set found on development set:\n",
      "\n",
      "{'C': 100, 'kernel': 'linear'}\n"
     ]
    }
   ],
   "source": [
    "tuned_parameters = [{'kernel': ['rbf'], 'gamma': [1e-3, 1e-4],\n",
    "                     'C': [1, 10, 100, 1000]},\n",
    "                    {'kernel': ['linear'], 'C': [1, 10, 100, 1000]}, \n",
    "                    {'kernel': ['poly'], 'C': [1, 10, 100, 1000]}]\n",
    "cvscores = []\n",
    "\n",
    "clf = GridSearchCV(\n",
    "        SVC(), tuned_parameters, scoring='accuracy'\n",
    "    )\n",
    "# create model\n",
    "clf.fit(np.array(train_X), np.array(train_Y))\n",
    "# evaluate the model\n",
    "clf.predict(np.array(test_X))\n",
    "print(\"Best parameters set found on development set:\")\n",
    "print()\n",
    "print(clf.best_params_)"
   ]
  },
  {
   "cell_type": "code",
   "execution_count": 18,
   "metadata": {},
   "outputs": [
    {
     "name": "stdout",
     "output_type": "stream",
     "text": [
      "0.509 (+/-0.015) for {'C': 1, 'gamma': 0.001, 'kernel': 'rbf'}\n",
      "0.509 (+/-0.015) for {'C': 1, 'gamma': 0.0001, 'kernel': 'rbf'}\n",
      "0.509 (+/-0.015) for {'C': 10, 'gamma': 0.001, 'kernel': 'rbf'}\n",
      "0.509 (+/-0.015) for {'C': 10, 'gamma': 0.0001, 'kernel': 'rbf'}\n",
      "0.603 (+/-0.064) for {'C': 100, 'gamma': 0.001, 'kernel': 'rbf'}\n",
      "0.509 (+/-0.015) for {'C': 100, 'gamma': 0.0001, 'kernel': 'rbf'}\n",
      "0.688 (+/-0.071) for {'C': 1000, 'gamma': 0.001, 'kernel': 'rbf'}\n",
      "0.603 (+/-0.064) for {'C': 1000, 'gamma': 0.0001, 'kernel': 'rbf'}\n",
      "0.691 (+/-0.057) for {'C': 1, 'kernel': 'linear'}\n",
      "0.691 (+/-0.082) for {'C': 10, 'kernel': 'linear'}\n",
      "0.713 (+/-0.113) for {'C': 100, 'kernel': 'linear'}\n",
      "0.694 (+/-0.102) for {'C': 1000, 'kernel': 'linear'}\n",
      "0.594 (+/-0.044) for {'C': 1, 'kernel': 'poly'}\n",
      "0.634 (+/-0.037) for {'C': 10, 'kernel': 'poly'}\n",
      "0.647 (+/-0.106) for {'C': 100, 'kernel': 'poly'}\n",
      "0.662 (+/-0.042) for {'C': 1000, 'kernel': 'poly'}\n",
      "\n",
      "Prediction Time\n",
      "[[31 12]\n",
      " [10 27]]\n",
      "0.725\n"
     ]
    }
   ],
   "source": [
    "means = clf.cv_results_['mean_test_score']\n",
    "stds = clf.cv_results_['std_test_score']\n",
    "for mean, std, params in zip(means, stds, clf.cv_results_['params']):\n",
    "    print(\"%0.3f (+/-%0.03f) for %r\"\n",
    "          % (mean, std * 2, params))\n",
    "print()\n",
    "\n",
    "print('Prediction Time')\n",
    "y_true, y_pred = test_Y, clf.predict(test_X)\n",
    "print(confusion_matrix(y_true, y_pred))\n",
    "print(accuracy_score(y_true, y_pred))"
   ]
  },
  {
   "cell_type": "markdown",
   "metadata": {},
   "source": [
    "## Neural network text categorization approach\n",
    "In this section we implement neural network in Keras library."
   ]
  },
  {
   "cell_type": "code",
   "execution_count": 19,
   "metadata": {},
   "outputs": [
    {
     "name": "stdout",
     "output_type": "stream",
     "text": [
      "Once deleted, variables cannot be recovered. Proceed (y/[n])? y\n"
     ]
    }
   ],
   "source": [
    "%reset"
   ]
  },
  {
   "cell_type": "markdown",
   "metadata": {},
   "source": [
    "## Imports"
   ]
  },
  {
   "cell_type": "code",
   "execution_count": 20,
   "metadata": {},
   "outputs": [],
   "source": [
    "from keras.preprocessing.text import Tokenizer\n",
    "from keras.preprocessing.sequence import pad_sequences\n",
    "from sklearn.metrics import confusion_matrix\n",
    "from keras.layers import LSTM, Dropout, Dense, Embedding\n",
    "from keras.models import Sequential\n",
    "from sklearn.model_selection import GridSearchCV\n",
    "import pandas as pd\n",
    "import numpy as np\n",
    "import matplotlib.pyplot as plt\n",
    "from langdetect import detect\n",
    "from sklearn.model_selection import train_test_split"
   ]
  },
  {
   "cell_type": "code",
   "execution_count": 21,
   "metadata": {},
   "outputs": [],
   "source": [
    "ds_review = pd.read_csv('yelp_review.csv')\n",
    "ds_business = pd.read_csv('yelp_business.csv')"
   ]
  },
  {
   "cell_type": "code",
   "execution_count": 22,
   "metadata": {},
   "outputs": [],
   "source": [
    "def plot_history(history):\n",
    "    acc = history.history['accuracy']\n",
    "    val_acc = history.history['val_accuracy']\n",
    "    loss = history.history['loss']\n",
    "    val_loss = history.history['val_loss']\n",
    "    x = range(1, len(acc) + 1)\n",
    "\n",
    "    plt.figure(figsize=(12, 5))\n",
    "    plt.subplot(1, 2, 1)\n",
    "    plt.plot(x, acc, 'b', label='Training acc')\n",
    "    plt.plot(x, val_acc, 'r', label='Validation acc')\n",
    "    plt.title('Training and validation accuracy')\n",
    "    plt.legend()\n",
    "    plt.subplot(1, 2, 2)\n",
    "    plt.plot(x, loss, 'b', label='Training loss')\n",
    "    plt.plot(x, val_loss, 'r', label='Validation loss')\n",
    "    plt.title('Training and validation loss')\n",
    "    plt.legend()\n",
    "\n",
    "def create_embedding_matrix(filepath, word_index, embedding_dim):\n",
    "    vocab_size = len(word_index) + 1  # Adding again 1 because of reserved 0 index\n",
    "    embedding_matrix = np.zeros((vocab_size, embedding_dim))\n",
    "\n",
    "    with open(filepath) as f:\n",
    "        for line in f:\n",
    "            word, *vector = line.split()\n",
    "            if word in word_index:\n",
    "                idx = word_index[word] \n",
    "                embedding_matrix[idx] = np.array(\n",
    "                    vector, dtype=np.float32)[:embedding_dim]\n",
    "\n",
    "    return embedding_matrix"
   ]
  },
  {
   "cell_type": "code",
   "execution_count": 23,
   "metadata": {},
   "outputs": [
    {
     "name": "stdout",
     "output_type": "stream",
     "text": [
      "Model: \"sequential_1\"\n",
      "_________________________________________________________________\n",
      "Layer (type)                 Output Shape              Param #   \n",
      "=================================================================\n",
      "embedding_1 (Embedding)      (None, 100, 100)          1543200   \n",
      "_________________________________________________________________\n",
      "lstm_1 (LSTM)                (None, 100, 50)           30200     \n",
      "_________________________________________________________________\n",
      "lstm_2 (LSTM)                (None, 20)                5680      \n",
      "_________________________________________________________________\n",
      "dropout_1 (Dropout)          (None, 20)                0         \n",
      "_________________________________________________________________\n",
      "dense_1 (Dense)              (None, 8)                 168       \n",
      "_________________________________________________________________\n",
      "dense_2 (Dense)              (None, 1)                 9         \n",
      "=================================================================\n",
      "Total params: 1,579,257\n",
      "Trainable params: 1,579,257\n",
      "Non-trainable params: 0\n",
      "_________________________________________________________________\n"
     ]
    }
   ],
   "source": [
    "ds_restaurants = ds_business[(ds_business['categories'].str.contains('Restaurants')) & ~(ds_business['categories'].str.contains('Shopping'))]\n",
    "ds_shopping = ds_business[(ds_business['categories'].str.contains('Shopping')) & ~(ds_business['categories'].str.contains('Restaurants')) & ~(ds_business['categories'].str.contains('Food')) & ~(ds_business['categories'].str.contains('Bars'))]\n",
    "shopping_id = ds_shopping.business_id.values\n",
    "shopping_reviews = ds_review.loc[ds_review['business_id'].isin(shopping_id)] # positive\n",
    "shopping_reviews['label'] = 1\n",
    "\n",
    "restaurant_id =ds_restaurants.business_id.values\n",
    "restaurant_reviews = ds_review.loc[ds_review['business_id'].isin(restaurant_id)] # negative\n",
    "restaurant_reviews['label'] = 0\n",
    "np.random.seed(42)\n",
    "\n",
    "shopping_reviews['lang'] = shopping_reviews['text'].head(4000).apply(lambda x: detect(x))\n",
    "restaurant_reviews['lang'] = restaurant_reviews['text'].head(4000).apply(lambda x: detect(x))\n",
    "\n",
    "shopping_reviews = shopping_reviews[shopping_reviews['lang'] =='en']\n",
    "restaurant_reviews = restaurant_reviews[restaurant_reviews['lang'] =='en']\n",
    "\n",
    "pos_ds = shopping_reviews.head(2000)\n",
    "neg_ds = restaurant_reviews.head(2000)\n",
    "ds1 = pos_ds.append(neg_ds)\n",
    "ds1['text'] = ds1['text'].str.lower()\n",
    "X = ds1['text'] # the features we want to analyze\n",
    "ylabels = ds1['label'] # the labels, or answers, we want to test against\n",
    "X_train, X_test, y_train, y_test = train_test_split(X, ylabels, test_size=1/3, random_state=42)\n",
    "\n",
    "tokenizer = Tokenizer()\n",
    "tokenizer.fit_on_texts(X_train)\n",
    "tokenizer.num_words = 5000\n",
    "xtrain = tokenizer.texts_to_sequences(X_train)\n",
    "xtest = tokenizer.texts_to_sequences(X_test)\n",
    "\n",
    "# Adding 1 because of reserved 0 index\n",
    "vocab_size = len(tokenizer.word_index) + 1\n",
    "\n",
    "\n",
    "maxlen=100\n",
    "# Pad sequences with zeros\n",
    "X_train = pad_sequences(xtrain, padding='post', maxlen=maxlen)\n",
    "X_test = pad_sequences(xtest, padding='post', maxlen=maxlen)\n",
    "\n",
    "vocab_size=len(tokenizer.word_index)+1\n",
    "\n",
    "\n",
    "embedding_dim = 100\n",
    "\n",
    "# We will use glove for pretrained embeding matrix\n",
    "embedding_matrix = create_embedding_matrix('glove.6B.100d.txt',tokenizer.word_index, embedding_dim)\n",
    "\n",
    "model = Sequential()\n",
    "model.add(Embedding(vocab_size, embedding_dim, \n",
    "                           weights=[embedding_matrix], \n",
    "                           input_length=maxlen, \n",
    "                           trainable=True))\n",
    "model.add(LSTM(units=50,return_sequences=True))\n",
    "model.add(LSTM(units=20))\n",
    "model.add(Dropout(0.5))\n",
    "model.add(Dense(8))\n",
    "model.add(Dense(1, activation=\"sigmoid\"))\n",
    "model.compile(optimizer=\"adam\", loss=\"binary_crossentropy\", \n",
    "     metrics=['accuracy'])\n",
    "model.summary()\n",
    "\n",
    "\n",
    "    "
   ]
  },
  {
   "cell_type": "code",
   "execution_count": 24,
   "metadata": {},
   "outputs": [
    {
     "name": "stdout",
     "output_type": "stream",
     "text": [
      "Training Accuracy: 0.9974\n",
      "Testing Accuracy:  0.9640\n"
     ]
    },
    {
     "data": {
      "image/png": "[encoded data removed]",
      "text/plain": [
       "<Figure size 864x360 with 2 Axes>"
      ]
     },
     "metadata": {
      "needs_background": "light"
     },
     "output_type": "display_data"
    }
   ],
   "source": [
    "history = model.fit(X_train, y_train,\n",
    "                    epochs=30,\n",
    "                    verbose=False,\n",
    "                    validation_data=(X_test, y_test),\n",
    "                    batch_size=10)\n",
    "loss, accuracy = model.evaluate(X_train, y_train, verbose=False)\n",
    "print(\"Training Accuracy: {:.4f}\".format(accuracy))\n",
    "loss, accuracy = model.evaluate(X_test, y_test, verbose=False)\n",
    "print(\"Testing Accuracy:  {:.4f}\".format(accuracy))\n",
    "plot_history(history)"
   ]
  },
  {
   "cell_type": "code",
   "execution_count": 25,
   "metadata": {},
   "outputs": [],
   "source": [
    "pos_ds = shopping_reviews.tail(1000)\n",
    "neg_ds = restaurant_reviews.tail(1000)\n",
    "ds2 = pos_ds.append(neg_ds)\n",
    "ds2['text'] = ds2['text'].str.lower()"
   ]
  },
  {
   "cell_type": "markdown",
   "metadata": {},
   "source": [
    "Lets check if training dataset and testing dataset have any common reviews"
   ]
  },
  {
   "cell_type": "code",
   "execution_count": 26,
   "metadata": {},
   "outputs": [
    {
     "name": "stdout",
     "output_type": "stream",
     "text": [
      "0\n"
     ]
    }
   ],
   "source": [
    "idx = ds1.index.intersection(ds2.index)\n",
    "print (len(idx))"
   ]
  },
  {
   "cell_type": "code",
   "execution_count": 27,
   "metadata": {},
   "outputs": [],
   "source": [
    "X_test = ds2['text']\n",
    "y_test = ds2['label']"
   ]
  },
  {
   "cell_type": "code",
   "execution_count": 28,
   "metadata": {},
   "outputs": [
    {
     "name": "stdout",
     "output_type": "stream",
     "text": [
      "Testing Accuracy:  0.9645\n"
     ]
    }
   ],
   "source": [
    "xtest = tokenizer.texts_to_sequences(X_test)\n",
    "X_test = pad_sequences(xtest, padding='post', maxlen=maxlen)\n",
    "\n",
    "loss, accuracy = model.evaluate(X_test, y_test, verbose=False)\n",
    "print(\"Testing Accuracy:  {:.4f}\".format(accuracy))"
   ]
  }
 ],
 "metadata": {
  "kernelspec": {
   "display_name": "Python 3",
   "language": "python",
   "name": "python3"
  },
  "language_info": {
   "codemirror_mode": {
    "name": "ipython",
    "version": 3
   },
   "file_extension": ".py",
   "mimetype": "text/x-python",
   "name": "python",
   "nbconvert_exporter": "python",
   "pygments_lexer": "ipython3",
   "version": "3.7.4"
  }
 },
 "nbformat": 4,
 "nbformat_minor": 4
}
